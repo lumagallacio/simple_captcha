{
 "cells": [
  {
   "cell_type": "code",
   "execution_count": 1,
   "metadata": {},
   "outputs": [],
   "source": [
    "import numpy as np\n",
    "import cv2\n",
    "from matplotlib import pyplot as plt\n",
    "import matplotlib.pyplot as plt\n",
    "import matplotlib.ticker as plticker\n",
    "try:\n",
    "    from PIL import Image\n",
    "except ImportError:\n",
    "    import Image"
   ]
  },
  {
   "cell_type": "code",
   "execution_count": 2,
   "metadata": {},
   "outputs": [],
   "source": [
    "img = cv2.imread(\"teste.jpg\")\n",
    "# img = cv2.cvtColor(img, cv2.COLOR_BGR2RGB)\n",
    "\n",
    "x_selected=[]\n",
    "y_selected=[]\n",
    "coords=[]\n",
    "x_grid=[]\n",
    "y_grid=[]\n",
    "height=0\n",
    "width=0\n",
    "GRID_SIZE = 50\n"
   ]
  },
  {
   "cell_type": "code",
   "execution_count": 3,
   "metadata": {
    "tags": []
   },
   "outputs": [],
   "source": [
    "def add_grid():\n",
    "    global img, height, width,x_grid,y_grid, GRID_SIZE\n",
    "    height, width, channels = img.shape\n",
    "\n",
    "    for x in range(0, width -1, GRID_SIZE):  \n",
    "        x_grid.append(x)  \n",
    "        cv2.line(img, (x, 0), (x, height), (255, 0, 0), 1, 1)\n",
    "            \n",
    "        \n",
    "    for y in range(0, height -1, GRID_SIZE):\n",
    "        y_grid.append(y)  \n",
    "        cv2.line(img, (0,y), (width,y), (255, 0, 0), 1, 1)\n"
   ]
  },
  {
   "cell_type": "code",
   "execution_count": 4,
   "metadata": {},
   "outputs": [],
   "source": [
    "def get_points(img, x, y):\n",
    "    global x_grid, y_grid, x_selected, y_selected, GRID_SIZE\n",
    "    x_new=x\n",
    "    y_new=y\n",
    "    while (x_new not in x_grid):\n",
    "        if(x_new==width):\n",
    "            break\n",
    "        x_new=x_new-1\n",
    "        \n",
    "    while (y_new not in y_grid):\n",
    "        if(y_new==height):\n",
    "            break\n",
    "        y_new=y_new+1\n",
    "\n",
    "    x_new2 = x_new + GRID_SIZE\n",
    "    y_new2 = y_new - GRID_SIZE\n",
    "\n",
    "    x_selected.append(x_new)\n",
    "    y_selected.append(y_new)\n",
    "    return x_new,y_new, x_new2,y_new2\n"
   ]
  },
  {
   "cell_type": "code",
   "execution_count": 5,
   "metadata": {},
   "outputs": [],
   "source": [
    "def set_rectangle(img, x, y):\n",
    "        x_new, y_new,x_new2, y_new2 = get_points(img, x, y)\n",
    "        cv2.rectangle(img, (x_new, y_new), (x_new2, y_new2), (0,0,255), 1, 1)"
   ]
  },
  {
   "cell_type": "code",
   "execution_count": 6,
   "metadata": {},
   "outputs": [],
   "source": [
    "def handle_click(event,x,y,flags,param):\n",
    "     if event == cv2.EVENT_LBUTTONDOWN:\n",
    "        set_rectangle(img, x, y)\n",
    "\n",
    "def create_rec_final(x_selected, y_selected):\n",
    "    global GRID_SIZE\n",
    "    x_object = (min(x_selected),max(x_selected)+GRID_SIZE)\n",
    "    y_object = (min(y_selected)-GRID_SIZE,max(y_selected))\n",
    "    cv2.rectangle(img, (x_object[0], y_object[1]), (x_object[1], y_object[0]), (0,255,0), 1, 1)\n",
    "    coords = [x_object[0], y_object[1], x_object[1], y_object[0]]\n",
    "    return coords"
   ]
  },
  {
   "cell_type": "code",
   "execution_count": 7,
   "metadata": {},
   "outputs": [],
   "source": [
    "def print_json():\n",
    "    import json\n",
    "    data=[]\n",
    "    data.append({\"rect\": coords_dog, \"label\": 'dog'})\n",
    "    data.append({\"rect\": coords_person, \"label\": 'person'})\n",
    "    json_dump = json.dumps(data)\n",
    "    print(json_dump)"
   ]
  },
  {
   "cell_type": "code",
   "execution_count": 8,
   "metadata": {
    "tags": []
   },
   "outputs": [
    {
     "output_type": "stream",
     "name": "stdout",
     "text": "[{\"rect\": [], \"label\": \"dog\"}, {\"rect\": [0, 200, 150, 50], \"label\": \"person\"}]\n"
    }
   ],
   "source": [
    "\n",
    "cv2.namedWindow(\"image\")\n",
    "cv2.setMouseCallback(\"image\", handle_click)\n",
    "\n",
    "add_grid()\n",
    "coords_dog=[]\n",
    "coords_person=[]\n",
    "while True:\n",
    "    cv2.imshow(\"image\", img)\n",
    "    key = cv2.waitKey(1) & 0xFF\n",
    "    if key == ord(\"d\"):\n",
    "        coords_dog = create_rec_final(x_selected, y_selected)\n",
    "        cv2.imshow(\"image\", cv2.imread(\"teste.jpg\"))\n",
    "        x_selected=[]\n",
    "        y_selected=[]\n",
    "    if key == ord(\"p\"):\n",
    "        coords_person =  create_rec_final(x_selected, y_selected)\n",
    "        cv2.imshow(\"image\", cv2.imread(\"teste.jpg\"))\n",
    "        x_selected=[]\n",
    "        y_selected=[]\n",
    "    elif key == ord(\"q\"):\n",
    "        print_json()\n",
    "        cv2.destroyAllWindows()\n",
    "        break"
   ]
  },
  {
   "cell_type": "code",
   "execution_count": null,
   "metadata": {},
   "outputs": [],
   "source": []
  }
 ],
 "metadata": {
  "kernelspec": {
   "display_name": "Python 3.6.9 64-bit ('venv': venv)",
   "language": "python",
   "name": "python36964bitvenvvenv527845ed92ea4a5a9c960309f94c4868"
  },
  "language_info": {
   "codemirror_mode": {
    "name": "ipython",
    "version": 3
   },
   "file_extension": ".py",
   "mimetype": "text/x-python",
   "name": "python",
   "nbconvert_exporter": "python",
   "pygments_lexer": "ipython3",
   "version": "3.6.9-final"
  }
 },
 "nbformat": 4,
 "nbformat_minor": 2
}